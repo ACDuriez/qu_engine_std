{
 "cells": [
  {
   "cell_type": "code",
   "execution_count": 50,
   "metadata": {},
   "outputs": [],
   "source": [
    "from qutip import*\n",
    "import numpy as np\n",
    "import matplotlib.pyplot as plt"
   ]
  },
  {
   "cell_type": "code",
   "execution_count": 51,
   "metadata": {},
   "outputs": [],
   "source": [
    "def f0_t(t, args):\n",
    "    \"\"\" Returns the value of the detuning delta.\n",
    "        Must receive the value of delta.                \"\"\"\n",
    "    return  args[\"delta\"] "
   ]
  },
  {
   "cell_type": "code",
   "execution_count": 52,
   "metadata": {},
   "outputs": [],
   "source": [
    "def f1_t(t, args):\n",
    "    \"\"\" Returns the value of the driving function.\n",
    "        Must receive a sweep rate u.                \"\"\"\n",
    "    return  t * args[\"sweep_rate\"] # Linear control (Landau-Zener -> u t) "
   ]
  },
  {
   "cell_type": "code",
   "execution_count": 53,
   "metadata": {},
   "outputs": [],
   "source": [
    "steps = 100 #size of the step (precision of simulation)\n",
    "utau = 0.5 #size of the gap\n",
    "delta= 1 #detuning\n",
    "u = 0.01 #sweep rate\n",
    "tau = utau/u\n",
    "H0 = sigmaz() #time-independent term, does not include delta\n",
    "H1 = sigmax() #time-dependent term\n",
    "t1 = -tau #initial instant\n",
    "t2 = 0 #final instant"
   ]
  },
  {
   "cell_type": "code",
   "execution_count": 54,
   "metadata": {},
   "outputs": [],
   "source": [
    "def h_t(t):\n",
    "    \"\"\" Evaluates the Hamiltonian at time t\"\"\"\n",
    "    return f0_t(t,{'delta':delta})*H0+f1_t(t,{'sweep_rate':u})*H1"
   ]
  },
  {
   "cell_type": "code",
   "execution_count": 55,
   "metadata": {},
   "outputs": [],
   "source": [
    "tlist = np.linspace(t1,t2,steps)"
   ]
  },
  {
   "cell_type": "code",
   "execution_count": 56,
   "metadata": {},
   "outputs": [],
   "source": [
    "excited_t1 = h_t(t1).eigenstates()[1][1] #excited state at t_1 \n",
    "excited_t2 = h_t(t2).eigenstates()[1][1] #excited state at t_2"
   ]
  },
  {
   "cell_type": "code",
   "execution_count": 57,
   "metadata": {},
   "outputs": [
    {
     "name": "stdout",
     "output_type": "stream",
     "text": [
      "(array([-1.11803399,  1.11803399]), array([Quantum object: dims = [[2], [1]], shape = (2, 1), type = ket\n",
      "       Qobj data =\n",
      "       [[-0.22975292]\n",
      "        [-0.97324899]]                                              ,\n",
      "       Quantum object: dims = [[2], [1]], shape = (2, 1), type = ket\n",
      "       Qobj data =\n",
      "       [[-0.97324899]\n",
      "        [ 0.22975292]]                                              ],\n",
      "      dtype=object))\n"
     ]
    }
   ],
   "source": [
    "print(h_t(t1).eigenstates())"
   ]
  },
  {
   "cell_type": "code",
   "execution_count": 58,
   "metadata": {},
   "outputs": [],
   "source": [
    "H = [[H0,f0_t],[H1,f1_t]]"
   ]
  },
  {
   "cell_type": "markdown",
   "metadata": {},
   "source": [
    "Obtaining the state vector"
   ]
  },
  {
   "cell_type": "code",
   "execution_count": 60,
   "metadata": {},
   "outputs": [],
   "source": [
    "\n",
    "psi0 = excited_t1 #the inital state is the excited state at t_1 \n",
    "result = sesolve(H,psi0,tlist,args={'sweep_rate':u,'delta':delta})\n",
    "final_state = result.states[-1] # equivalent to U|psi_0> at the end of the evolution"
   ]
  },
  {
   "cell_type": "code",
   "execution_count": 61,
   "metadata": {},
   "outputs": [
    {
     "name": "stdout",
     "output_type": "stream",
     "text": [
      "Quantum object: dims = [[1], [1]], shape = (1, 1), type = bra\n",
      "Qobj data =\n",
      "[[0.99998213]]\n"
     ]
    }
   ],
   "source": [
    "P = (excited_t2.dag()*final_state)*(final_state.dag()*excited_t2) #Permanence probability excited state\n",
    "print(P)"
   ]
  },
  {
   "cell_type": "code",
   "execution_count": null,
   "metadata": {},
   "outputs": [],
   "source": []
  }
 ],
 "metadata": {
  "kernelspec": {
   "display_name": "Python 3.10.4 ('quanta')",
   "language": "python",
   "name": "python3"
  },
  "language_info": {
   "codemirror_mode": {
    "name": "ipython",
    "version": 3
   },
   "file_extension": ".py",
   "mimetype": "text/x-python",
   "name": "python",
   "nbconvert_exporter": "python",
   "pygments_lexer": "ipython3",
   "version": "3.10.4"
  },
  "orig_nbformat": 4,
  "vscode": {
   "interpreter": {
    "hash": "8c27a8da7f8b326f9c4ebc71c163e810468cb2639fe9baa68fe8ba9dae3bbca9"
   }
  }
 },
 "nbformat": 4,
 "nbformat_minor": 2
}
