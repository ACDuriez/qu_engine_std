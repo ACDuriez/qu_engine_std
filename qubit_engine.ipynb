{
 "cells": [
  {
   "cell_type": "code",
   "execution_count": 76,
   "metadata": {},
   "outputs": [],
   "source": [
    "from qutip import*\n",
    "import numpy as np\n",
    "import matplotlib.pyplot as plt\n",
    "import csv\n",
    "import seaborn as sms\n",
    "import matplotlib.ticker as tck"
   ]
  },
  {
   "cell_type": "code",
   "execution_count": 77,
   "metadata": {},
   "outputs": [],
   "source": [
    "def f0_t(t, args):\n",
    "    \"\"\" Returns the value of the detuning delta.\n",
    "        Must receive the value of delta.                \"\"\"\n",
    "    return  args[\"delta\"] "
   ]
  },
  {
   "cell_type": "code",
   "execution_count": 78,
   "metadata": {},
   "outputs": [],
   "source": [
    "def f1_t(t, args):\n",
    "    \"\"\" Returns the value of the driving function.\n",
    "        Must receive a sweep rate u.                \"\"\"\n",
    "    return  t * args[\"sweep_rate\"] # Linear control (Landau-Zener -> u t) "
   ]
  },
  {
   "cell_type": "code",
   "execution_count": 79,
   "metadata": {},
   "outputs": [],
   "source": [
    "def h_t(t,args):\n",
    "    \"\"\" Evaluates the Hamiltonian at time t\"\"\"\n",
    "    return f0_t(t,args)*H0 + f1_t(t,args)*H1"
   ]
  },
  {
   "cell_type": "code",
   "execution_count": 80,
   "metadata": {},
   "outputs": [],
   "source": [
    "def compute_p(args):\n",
    "    \"\"\"Calculates the value of P for a given set o u and delta\"\"\"\n",
    "    \n",
    "    u = args['sweep_rate']\n",
    "    delta = args['delta']\n",
    "    tau = utau/u\n",
    "    t1 = -tau\n",
    "    t2 = 0\n",
    "\n",
    "    tlist = np.linspace(t1,t2,steps) #the list of times depends on the parameters\n",
    "    excited_t1 = h_t(t1,args).eigenstates()[1][1]\n",
    "    excited_t2 = h_t(t2,args).eigenstates()[1][1]\n",
    "\n",
    "    H = [[H0,f0_t],[H1,f1_t]]\n",
    "    psi0 = excited_t1\n",
    "    result = sesolve(H,psi0,tlist,args=args)\n",
    "    final_state = result.states[-1]\n",
    "    P = ((excited_t2.dag()*final_state)*(final_state.dag()*excited_t2)).norm() #Permanence probab\n",
    "    \n",
    "    return P\n",
    "\n",
    "    "
   ]
  },
  {
   "cell_type": "code",
   "execution_count": 81,
   "metadata": {},
   "outputs": [],
   "source": [
    "steps = 100 #size of the step (precision of simulation)\n",
    "utau = 0.5 #size of the gap\n",
    "H0 = sigmaz() #time-independent term, does not include delta\n",
    "H1 = sigmax() #time-dependent term"
   ]
  },
  {
   "cell_type": "code",
   "execution_count": 82,
   "metadata": {},
   "outputs": [],
   "source": [
    "param_step = 50\n",
    "u_list = np.linspace(0.005,0.5,param_step)\n",
    "delta_list = np.linspace(0.01,2,param_step)\n",
    "u_array = np.array(u_list)\n",
    "delta_array = np.array(delta_list)"
   ]
  },
  {
   "cell_type": "code",
   "execution_count": 83,
   "metadata": {},
   "outputs": [],
   "source": [
    "p_array = np.empty(shape=(param_step, param_step), dtype='object')"
   ]
  },
  {
   "cell_type": "code",
   "execution_count": 84,
   "metadata": {},
   "outputs": [],
   "source": [
    "for i in range(param_step):\n",
    "    for j in range(param_step):\n",
    "        args = {'sweep_rate':u_array[i],'delta':delta_array[j]}\n",
    "        p_value=compute_p(args)\n",
    "        p_array[i,j] = p_value"
   ]
  },
  {
   "cell_type": "code",
   "execution_count": 85,
   "metadata": {},
   "outputs": [
    {
     "data": {
      "text/plain": [
       "<matplotlib.contour.QuadContourSet at 0x7f46bab5c970>"
      ]
     },
     "execution_count": 85,
     "metadata": {},
     "output_type": "execute_result"
    },
    {
     "data": {
      "image/png": "[encoded data removed]",
      "text/plain": [
       "<Figure size 360x360 with 1 Axes>"
      ]
     },
     "metadata": {
      "needs_background": "light"
     },
     "output_type": "display_data"
    }
   ],
   "source": [
    "f,ax = plt.subplots(figsize=(5,5))\n",
    "plt.contourf(u_array,delta_array,p_array,cmap='gray_r')"
   ]
  }
 ],
 "metadata": {
  "kernelspec": {
   "display_name": "Python 3.10.4 ('quanta')",
   "language": "python",
   "name": "python3"
  },
  "language_info": {
   "codemirror_mode": {
    "name": "ipython",
    "version": 3
   },
   "file_extension": ".py",
   "mimetype": "text/x-python",
   "name": "python",
   "nbconvert_exporter": "python",
   "pygments_lexer": "ipython3",
   "version": "3.10.4"
  },
  "orig_nbformat": 4,
  "vscode": {
   "interpreter": {
    "hash": "8c27a8da7f8b326f9c4ebc71c163e810468cb2639fe9baa68fe8ba9dae3bbca9"
   }
  }
 },
 "nbformat": 4,
 "nbformat_minor": 2
}
