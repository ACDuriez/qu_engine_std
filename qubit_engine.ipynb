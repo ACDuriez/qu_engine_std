{
 "cells": [
  {
   "cell_type": "code",
   "execution_count": 182,
   "metadata": {},
   "outputs": [],
   "source": [
    "from qutip import*\n",
    "import numpy as np\n",
    "import matplotlib.pyplot as plt"
   ]
  },
  {
   "cell_type": "code",
   "execution_count": 183,
   "metadata": {},
   "outputs": [],
   "source": [
    "steps = 100 #size of the step (precision of simulation)\n",
    "utau = 0.5 #size of the gap\n",
    "delta= 1 #detuning\n",
    "u = 0.0001 #sweep rate\n",
    "tau = utau/u\n",
    "H0 = delta*sigmaz() #time-independent term, includes the value of delta\n",
    "H1 = sigmax() #time-dependent term"
   ]
  },
  {
   "cell_type": "code",
   "execution_count": 184,
   "metadata": {},
   "outputs": [],
   "source": [
    "def f1_t(t, args):\n",
    "    \"\"\" Returns the value of the driving function.\n",
    "        Must receive a sweep rate u.                \"\"\"\n",
    "    return  t * args[\"sweep_rate\"] # Linear control (Landau-Zener -> u t) "
   ]
  },
  {
   "cell_type": "code",
   "execution_count": 185,
   "metadata": {},
   "outputs": [
    {
     "name": "stdout",
     "output_type": "stream",
     "text": [
      "[-5000.         -4949.49494949 -4898.98989899 -4848.48484848\n",
      " -4797.97979798 -4747.47474747 -4696.96969697 -4646.46464646\n",
      " -4595.95959596 -4545.45454545 -4494.94949495 -4444.44444444\n",
      " -4393.93939394 -4343.43434343 -4292.92929293 -4242.42424242\n",
      " -4191.91919192 -4141.41414141 -4090.90909091 -4040.4040404\n",
      " -3989.8989899  -3939.39393939 -3888.88888889 -3838.38383838\n",
      " -3787.87878788 -3737.37373737 -3686.86868687 -3636.36363636\n",
      " -3585.85858586 -3535.35353535 -3484.84848485 -3434.34343434\n",
      " -3383.83838384 -3333.33333333 -3282.82828283 -3232.32323232\n",
      " -3181.81818182 -3131.31313131 -3080.80808081 -3030.3030303\n",
      " -2979.7979798  -2929.29292929 -2878.78787879 -2828.28282828\n",
      " -2777.77777778 -2727.27272727 -2676.76767677 -2626.26262626\n",
      " -2575.75757576 -2525.25252525 -2474.74747475 -2424.24242424\n",
      " -2373.73737374 -2323.23232323 -2272.72727273 -2222.22222222\n",
      " -2171.71717172 -2121.21212121 -2070.70707071 -2020.2020202\n",
      " -1969.6969697  -1919.19191919 -1868.68686869 -1818.18181818\n",
      " -1767.67676768 -1717.17171717 -1666.66666667 -1616.16161616\n",
      " -1565.65656566 -1515.15151515 -1464.64646465 -1414.14141414\n",
      " -1363.63636364 -1313.13131313 -1262.62626263 -1212.12121212\n",
      " -1161.61616162 -1111.11111111 -1060.60606061 -1010.1010101\n",
      "  -959.5959596   -909.09090909  -858.58585859  -808.08080808\n",
      "  -757.57575758  -707.07070707  -656.56565657  -606.06060606\n",
      "  -555.55555556  -505.05050505  -454.54545455  -404.04040404\n",
      "  -353.53535354  -303.03030303  -252.52525253  -202.02020202\n",
      "  -151.51515152  -101.01010101   -50.50505051     0.        ]\n"
     ]
    }
   ],
   "source": [
    "tlist = np.linspace(-tau,0,steps)\n",
    "print(tlist)"
   ]
  },
  {
   "cell_type": "code",
   "execution_count": 186,
   "metadata": {},
   "outputs": [],
   "source": [
    "Ht1 = -utau*H1+H0 #The Hamiltonian at time t_1=-tau\n",
    "excited_t1 = Ht1.eigenstates()[1][1] #excited state at t_1 \n",
    "Ht2 = H0 # Hamiltonian at time t_2=0\n",
    "excited_t2 = Ht2.eigenstates()[1][1] #excited state at t_2\n",
    "\n"
   ]
  },
  {
   "cell_type": "code",
   "execution_count": 187,
   "metadata": {},
   "outputs": [
    {
     "name": "stdout",
     "output_type": "stream",
     "text": [
      "Quantum object: dims = [[2], [1]], shape = (2, 1), type = ket\n",
      "Qobj data =\n",
      "[[-1.]\n",
      " [ 0.]]\n"
     ]
    }
   ],
   "source": [
    "print(Ht2.eigenstates()[1][1])"
   ]
  },
  {
   "cell_type": "code",
   "execution_count": 188,
   "metadata": {},
   "outputs": [],
   "source": [
    "Ht = QobjEvo([H0,[H1,f1_t]],{'sweep_rate':u}) #Define the object for the time dependent Hamiltonian"
   ]
  },
  {
   "cell_type": "markdown",
   "metadata": {},
   "source": [
    "Obtaining the state vector"
   ]
  },
  {
   "cell_type": "code",
   "execution_count": 189,
   "metadata": {},
   "outputs": [],
   "source": [
    "\n",
    "psi0 = excited_t1 #the inital state is the excited state at t_1 \n",
    "result = sesolve(Ht,psi0,tlist)\n",
    "final_state = result.states[-1] # equivalent to U|psi_0> at the end of the evolution"
   ]
  },
  {
   "cell_type": "code",
   "execution_count": 193,
   "metadata": {},
   "outputs": [
    {
     "name": "stdout",
     "output_type": "stream",
     "text": [
      "Quantum object: dims = [[1], [1]], shape = (1, 1), type = bra\n",
      "Qobj data =\n",
      "[[1.]]\n"
     ]
    }
   ],
   "source": [
    "P = (excited_t2.dag()*final_state)*(final_state.dag()*excited_t2) #Permanence probability excited state\n",
    "print(P)"
   ]
  },
  {
   "cell_type": "code",
   "execution_count": 194,
   "metadata": {},
   "outputs": [
    {
     "name": "stdout",
     "output_type": "stream",
     "text": [
      "Quantum object: dims = [[2], [1]], shape = (2, 1), type = ket\n",
      "Qobj data =\n",
      "[[-2.34738857e-01-9.72058469e-01j]\n",
      " [-4.03616406e-05+2.12697355e-06j]]\n",
      "Quantum object: dims = [[2], [1]], shape = (2, 1), type = ket\n",
      "Qobj data =\n",
      "[[-1.]\n",
      " [ 0.]]\n"
     ]
    }
   ],
   "source": [
    "print(final_state)\n",
    "print(excited_t2)"
   ]
  },
  {
   "cell_type": "code",
   "execution_count": null,
   "metadata": {},
   "outputs": [],
   "source": []
  }
 ],
 "metadata": {
  "kernelspec": {
   "display_name": "Python 3.10.4 ('quanta')",
   "language": "python",
   "name": "python3"
  },
  "language_info": {
   "codemirror_mode": {
    "name": "ipython",
    "version": 3
   },
   "file_extension": ".py",
   "mimetype": "text/x-python",
   "name": "python",
   "nbconvert_exporter": "python",
   "pygments_lexer": "ipython3",
   "version": "3.10.4"
  },
  "orig_nbformat": 4,
  "vscode": {
   "interpreter": {
    "hash": "8c27a8da7f8b326f9c4ebc71c163e810468cb2639fe9baa68fe8ba9dae3bbca9"
   }
  }
 },
 "nbformat": 4,
 "nbformat_minor": 2
}
